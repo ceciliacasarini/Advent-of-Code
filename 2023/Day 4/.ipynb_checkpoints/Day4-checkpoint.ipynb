{
 "cells": [
  {
   "cell_type": "markdown",
   "id": "1fe2da41",
   "metadata": {},
   "source": [
    "--- Day 4: Scratchcards ---\n",
    "\n",
    "The gondola takes you up. Strangely, though, the ground doesn't seem to be coming with you; you're not climbing a mountain. As the circle of Snow Island recedes below you, an entire new landmass suddenly appears above you! The gondola carries you to the surface of the new island and lurches into the station.\n",
    "\n",
    "As you exit the gondola, the first thing you notice is that the air here is much warmer than it was on Snow Island. It's also quite humid. Is this where the water source is?\n",
    "\n",
    "The next thing you notice is an Elf sitting on the floor across the station in what seems to be a pile of colorful square cards.\n",
    "\n",
    "\"Oh! Hello!\" The Elf excitedly runs over to you. \"How may I be of service?\" You ask about water sources.\n",
    "\n",
    "\"I'm not sure; I just operate the gondola lift. That does sound like something we'd have, though - this is Island Island, after all! I bet the gardener would know. He's on a different island, though - er, the small kind surrounded by water, not the floating kind. We really need to come up with a better naming scheme. Tell you what: if you can help me with something quick, I'll let you borrow my boat and you can go visit the gardener. I got all these scratchcards as a gift, but I can't figure out what I've won.\"\n",
    "\n",
    "The Elf leads you over to the pile of colorful cards. There, you discover dozens of scratchcards, all with their opaque covering already scratched off. Picking one up, it looks like each card has two lists of numbers separated by a vertical bar (|): a list of winning numbers and then a list of numbers you have. You organize the information into a table (your puzzle input).\n",
    "\n",
    "As far as the Elf has been able to figure out, you have to figure out which of the numbers you have appear in the list of winning numbers. The first match makes the card worth one point and each match after the first doubles the point value of that card.\n",
    "\n",
    "For example:\n",
    "\n",
    "```\n",
    "Card 1: 41 48 83 86 17 | 83 86  6 31 17  9 48 53\n",
    "Card 2: 13 32 20 16 61 | 61 30 68 82 17 32 24 19\n",
    "Card 3:  1 21 53 59 44 | 69 82 63 72 16 21 14  1\n",
    "Card 4: 41 92 73 84 69 | 59 84 76 51 58  5 54 83\n",
    "Card 5: 87 83 26 28 32 | 88 30 70 12 93 22 82 36\n",
    "Card 6: 31 18 13 56 72 | 74 77 10 23 35 67 36 11\n",
    "```\n",
    "\n",
    "In the above example, card 1 has five winning numbers (41, 48, 83, 86, and 17) and eight numbers you have (83, 86, 6, 31, 17, 9, 48, and 53). Of the numbers you have, four of them (48, 83, 17, and 86) are winning numbers! That means card 1 is worth 8 points (1 for the first match, then doubled three times for each of the three matches after the first).\n",
    "\n",
    "Card 2 has two winning numbers (32 and 61), so it is worth 2 points. Card 3 has two winning numbers (1 and 21), so it is worth 2 points. Card 4 has one winning number (84), so it is worth 1 point. Card 5 has no winning numbers, so it is worth no points. Card 6 has no winning numbers, so it is worth no points. So, in this example, the Elf's pile of scratchcards is worth 13 points.\n",
    "\n",
    "Take a seat in the large pile of colorful cards. How many points are they worth in total?"
   ]
  },
  {
   "cell_type": "markdown",
   "id": "eb227d9d-912d-46d6-8571-5892e4e1d873",
   "metadata": {},
   "source": [
    "## Download Input\n",
    "- https://adventofcode.com/2023/day/4/input\n",
    "- select all, CMD+C\n",
    "- open TextEdit, Make Plain Text\n",
    "- CMD+V, save as input.txt"
   ]
  },
  {
   "cell_type": "code",
   "execution_count": 10,
   "id": "38efa35e-002a-451b-8bac-dbc58329fcbd",
   "metadata": {},
   "outputs": [
    {
     "data": {
      "text/plain": [
       "['Card   1: 29 21 67 44  6 13 68 15 60 79 | 75 44 60 30 10 68 40 70 36 79  3 13 64 15  4 46 21 22 67 47 73 86 29 53  6',\n",
       " 'Card   2: 15 61  5 39 42 79  4 81 72 89 | 74 79 20 81 72 85 25 76 36 49 51 18 34 90 57 17 11 24 89 73 19 37 61 54  2',\n",
       " 'Card   3: 75 31 33 22 49 70 37 98 92 94 |  1 87 73 92 57 94 84 10  5 79 69 74 96 37 40 55 18 21 85 93 71 49 70 22 39',\n",
       " 'Card   4: 76 59 23 34 55 41 47 92 58  5 | 16 70 56 19 79 30 85 58 88 75 71  5  8 64 12 23  9 46 34  4 94 37 48 82 47',\n",
       " 'Card   5: 48 77 74 18 44 34 71 38 67  1 |  8 78 73 19 39 50 11 54 69 37 79 18 66 77 52 94 74 34 71  1 48 85 67 95 93',\n",
       " 'Card   6:  1 30 41 34 51 23 64 14 18 74 | 38 98 13 67 39 65  1 29 28 75 95 71 60 88 20 86 59 63 36  3 15 57 58  4 42',\n",
       " 'Card   7: 70 27 20 85  2 34 55 49 24  5 | 19 20 15 48 70 26 89  7 55 44 76 53 63 49 93 68 23 59 72 73 52 41  9 11 94',\n",
       " 'Card   8: 64 17 56 38 85 53 88 22 51 92 | 22 10 37 24 65 25 63 82 64  5  1 88 17 73 39 78 53 36 71 92 23  9 85 33 38',\n",
       " 'Card   9: 99  7 22 85 41 15 84 10 42 34 | 16 52 65 26 95 37 28 44 21 36 13 89 48 51 71 83 49 86  9 12 33 32 61 72 73',\n",
       " 'Card  10: 19 86 25 64  6 95 74 55 68 12 | 51 46 95 84 27 87  7 12 18 81 19 66 33 26 94 16 97 86 74 31 55  6 30 60 85']"
      ]
     },
     "execution_count": 10,
     "metadata": {},
     "output_type": "execute_result"
    }
   ],
   "source": [
    "# This function can be used for every puzzle to retrieve input\n",
    "def get_input(filename=\"input.txt\"):\n",
    "    with open(filename, \"r\") as f:\n",
    "        return f.read().strip()\n",
    "\n",
    "# Let's save the input into the variable data\n",
    "data = get_input()\n",
    "# Split lines and make a list of strings\n",
    "data_lines = data.splitlines()\n",
    "data_lines[:10]"
   ]
  },
  {
   "cell_type": "markdown",
   "id": "dd9d7a72-7568-40db-92e8-b7b84d5d9fc8",
   "metadata": {},
   "source": [
    "## Devise a Solution\n",
    "\n",
    "- split each line first with : and then with | to get winning numbers and hand numbers\n",
    "- using split() we separate numbers into a list\n",
    "- then for i in hand, if i in winning: n+=1\n",
    "- winning worth = 2^(n-1) \n",
    "- sum up all the lines."
   ]
  },
  {
   "cell_type": "code",
   "execution_count": 6,
   "id": "bc61f414-5154-446c-9988-dec151e07bb3",
   "metadata": {},
   "outputs": [
    {
     "data": {
      "text/plain": [
       "['Card 1: 41 48 83 86 17 | 83 86  6 31 17  9 48 53',\n",
       " 'Card 2: 13 32 20 16 61 | 61 30 68 82 17 32 24 19',\n",
       " 'Card 3:  1 21 53 59 44 | 69 82 63 72 16 21 14  1',\n",
       " 'Card 4: 41 92 73 84 69 | 59 84 76 51 58  5 54 83',\n",
       " 'Card 5: 87 83 26 28 32 | 88 30 70 12 93 22 82 36',\n",
       " 'Card 6: 31 18 13 56 72 | 74 77 10 23 35 67 36 11']"
      ]
     },
     "execution_count": 6,
     "metadata": {},
     "output_type": "execute_result"
    }
   ],
   "source": [
    "# For now let's work only on the sample\n",
    "samp = '''Card 1: 41 48 83 86 17 | 83 86  6 31 17  9 48 53\n",
    "Card 2: 13 32 20 16 61 | 61 30 68 82 17 32 24 19\n",
    "Card 3:  1 21 53 59 44 | 69 82 63 72 16 21 14  1\n",
    "Card 4: 41 92 73 84 69 | 59 84 76 51 58  5 54 83\n",
    "Card 5: 87 83 26 28 32 | 88 30 70 12 93 22 82 36\n",
    "Card 6: 31 18 13 56 72 | 74 77 10 23 35 67 36 11'''\n",
    "\n",
    "lines = samp.splitlines()\n",
    "lines"
   ]
  },
  {
   "cell_type": "code",
   "execution_count": 8,
   "id": "2a19f1e6-f196-46eb-9353-25b2d345db37",
   "metadata": {},
   "outputs": [
    {
     "data": {
      "text/plain": [
       "'Card 1: 41 48 83 86 17 | 83 86  6 31 17  9 48 53'"
      ]
     },
     "execution_count": 8,
     "metadata": {},
     "output_type": "execute_result"
    }
   ],
   "source": [
    "x = lines[0]\n",
    "x"
   ]
  },
  {
   "cell_type": "code",
   "execution_count": 10,
   "id": "515c38d5-e858-4d83-b72d-b20a6dc66be6",
   "metadata": {},
   "outputs": [],
   "source": [
    "winning = x.split(':')[1].split('|')[0].split()\n",
    "hand = x.split(':')[1].split('|')[1].split()"
   ]
  },
  {
   "cell_type": "code",
   "execution_count": 12,
   "id": "ac39db07-9799-497f-91a5-eb8244ddc9bf",
   "metadata": {},
   "outputs": [
    {
     "name": "stdout",
     "output_type": "stream",
     "text": [
      "4 8\n"
     ]
    }
   ],
   "source": [
    "n = 0\n",
    "for i in hand:\n",
    "    if i in winning:\n",
    "        n+=1\n",
    "if n>0:\n",
    "    draw_worth = 2**(n-1)\n",
    "else:\n",
    "    draw_worth = 0\n",
    "print(n, draw_worth)"
   ]
  },
  {
   "cell_type": "code",
   "execution_count": 14,
   "id": "cf3cc909-1e6f-466a-b896-c462aba60ad5",
   "metadata": {},
   "outputs": [
    {
     "data": {
      "text/plain": [
       "13"
      ]
     },
     "execution_count": 14,
     "metadata": {},
     "output_type": "execute_result"
    }
   ],
   "source": [
    "def calc_worth(line):\n",
    "    winning = line.split(':')[1].split('|')[0].split()\n",
    "    hand = line.split(':')[1].split('|')[1].split()\n",
    "    n = 0\n",
    "    for i in hand:\n",
    "        if i in winning:\n",
    "            n+=1\n",
    "    if n > 0:\n",
    "        draw_worth = 2**(n-1)\n",
    "    else:\n",
    "        draw_worth = 0\n",
    "    return draw_worth\n",
    "\n",
    "def total_worth(lines):\n",
    "    final_worth = 0\n",
    "    for line in lines:\n",
    "        draw_worth = calc_worth(line)\n",
    "        final_worth+= draw_worth\n",
    "    return final_worth\n",
    "\n",
    "total_worth(lines)"
   ]
  },
  {
   "cell_type": "code",
   "execution_count": 16,
   "id": "04360050-1583-4b65-a92d-91fbaa0d3055",
   "metadata": {},
   "outputs": [
    {
     "data": {
      "text/plain": [
       "23750"
      ]
     },
     "execution_count": 16,
     "metadata": {},
     "output_type": "execute_result"
    }
   ],
   "source": [
    "# Now in all dataset\n",
    "total_worth(data_lines)"
   ]
  },
  {
   "cell_type": "markdown",
   "id": "21c0a94b",
   "metadata": {},
   "source": [
    "# Problem 2\n"
   ]
  },
  {
   "cell_type": "markdown",
   "id": "ec30a1e7-901d-4526-92f8-aedb6edd3846",
   "metadata": {},
   "source": [
    "--- Part Two ---\n",
    "\n",
    "Just as you're about to report your findings to the Elf, one of you realizes that the rules have actually been printed on the back of every card this whole time.\n",
    "\n",
    "There's no such thing as \"points\". Instead, scratchcards only cause you to win more scratchcards equal to the number of winning numbers you have.\n",
    "\n",
    "Specifically, you win copies of the scratchcards below the winning card equal to the number of matches. So, if card 10 were to have 5 matching numbers, you would win one copy each of cards 11, 12, 13, 14, and 15.\n",
    "\n",
    "Copies of scratchcards are scored like normal scratchcards and have the same card number as the card they copied. So, if you win a copy of card 10 and it has 5 matching numbers, it would then win a copy of the same cards that the original card 10 won: cards 11, 12, 13, 14, and 15. This process repeats until none of the copies cause you to win any more cards. (Cards will never make you copy a card past the end of the table.)\n",
    "\n",
    "This time, the above example goes differently:\n",
    "\n",
    "```\n",
    "Card 1: 41 48 83 86 17 | 83 86  6 31 17  9 48 53\n",
    "Card 2: 13 32 20 16 61 | 61 30 68 82 17 32 24 19\n",
    "Card 3:  1 21 53 59 44 | 69 82 63 72 16 21 14  1\n",
    "Card 4: 41 92 73 84 69 | 59 84 76 51 58  5 54 83\n",
    "Card 5: 87 83 26 28 32 | 88 30 70 12 93 22 82 36\n",
    "Card 6: 31 18 13 56 72 | 74 77 10 23 35 67 36 11\n",
    "```\n",
    "\n",
    "Card 1 has four matching numbers, so you win one copy each of the next four cards: cards 2, 3, 4, and 5. Your original card 2 has two matching numbers, so you win one copy each of cards 3 and 4. Your copy of card 2 also wins one copy each of cards 3 and 4. Your four instances of card 3 (one original and three copies) have two matching numbers, so you win four copies each of cards 4 and 5. Your eight instances of card 4 (one original and seven copies) have one matching number, so you win eight copies of card 5. Your fourteen instances of card 5 (one original and thirteen copies) have no matching numbers and win no more cards. Your one instance of card 6 (one original) has no matching numbers and wins no more cards. Once all of the originals and copies have been processed, you end up with 1 instance of card 1, 2 instances of card 2, 4 instances of card 3, 8 instances of card 4, 14 instances of card 5, and 1 instance of card 6. In total, this example pile of scratchcards causes you to ultimately have 30 scratchcards!\n",
    "\n",
    "Process all of the original and copied scratchcards until no more scratchcards are won. Including the original set of scratchcards, how many total scratchcards do you end up with?"
   ]
  },
  {
   "cell_type": "markdown",
   "id": "e7e8dc64-9ff2-41ce-8c1a-63e20303d373",
   "metadata": {},
   "source": [
    "### Rules:\n",
    "\n",
    "Each card has winning numbers and your numbers\n",
    "Count how many of your numbers match the winning numbers\n",
    "If card N has M matches, you win copies of the next M cards (cards N+1, N+2, ..., N+M)\n",
    "Copied cards also win more cards following the same rules\n",
    "Cards never copy beyond the end of the list\n",
    "Example:\n",
    "\n",
    "Card 1 has 4 matches → win copies of cards 2, 3, 4, 5\n",
    "Card 2 has 2 matches → win copies of cards 3, 4 (this happens for each instance of card 2)\n",
    "Continue processing all originals and copies\n",
    "Goal: Count the total number of cards (originals + all copies) you end up with.\n",
    "\n",
    "For the sample data, the answer is 30 total cards."
   ]
  },
  {
   "cell_type": "code",
   "execution_count": 4,
   "id": "65c1e1bd-c00e-4c0a-b61e-ef5f4618506f",
   "metadata": {},
   "outputs": [],
   "source": [
    "def calc_points(line):\n",
    "    winning = line.split(':')[1].split('|')[0].split()\n",
    "    hand = line.split(':')[1].split('|')[1].split()\n",
    "    n = 0\n",
    "    for i in hand:\n",
    "        if i in winning:\n",
    "            n+=1\n",
    "    return n"
   ]
  },
  {
   "cell_type": "code",
   "execution_count": 6,
   "id": "64003707-57e9-4992-b335-b277ac505335",
   "metadata": {},
   "outputs": [],
   "source": [
    "def calc_cards(lines):\n",
    "    games_dict = {}\n",
    "    for n in range(1,len(lines)+1):\n",
    "        games_dict[n] = 1\n",
    "\n",
    "    for n in range(len(lines)):\n",
    "        points = calc_points(lines[n])\n",
    "        if points>0:\n",
    "            for m in range(points):\n",
    "                for i in range(games_dict[n+1]):\n",
    "                    if n+1+m<=len(lines):\n",
    "                        games_dict[n+1+m+1]+=1\n",
    "    games_sum = 0\n",
    "    for key in games_dict:\n",
    "        games_sum+= games_dict[key]\n",
    "    return games_sum"
   ]
  },
  {
   "cell_type": "code",
   "execution_count": 12,
   "id": "f30d724b-d56f-46e8-82a5-28f638f88f12",
   "metadata": {},
   "outputs": [
    {
     "data": {
      "text/plain": [
       "13261850"
      ]
     },
     "execution_count": 12,
     "metadata": {},
     "output_type": "execute_result"
    }
   ],
   "source": [
    "calc_cards(data_lines)"
   ]
  },
  {
   "cell_type": "code",
   "execution_count": null,
   "id": "c39f0a2d-5282-4c8a-8f42-cc76cb4b92d6",
   "metadata": {},
   "outputs": [],
   "source": []
  }
 ],
 "metadata": {
  "kernelspec": {
   "display_name": "Python [conda env:base] *",
   "language": "python",
   "name": "conda-base-py"
  },
  "language_info": {
   "codemirror_mode": {
    "name": "ipython",
    "version": 3
   },
   "file_extension": ".py",
   "mimetype": "text/x-python",
   "name": "python",
   "nbconvert_exporter": "python",
   "pygments_lexer": "ipython3",
   "version": "3.12.7"
  },
  "solveit_dialog_mode": "learning",
  "solveit_ver": 2
 },
 "nbformat": 4,
 "nbformat_minor": 5
}
