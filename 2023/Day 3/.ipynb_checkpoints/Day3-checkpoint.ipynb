{
 "cells": [
  {
   "cell_type": "markdown",
   "id": "1fe2da41",
   "metadata": {},
   "source": [
    "# AoC 2023, Day 1, Problem 1\n",
    "\n",
    "--- Day 3: Gear Ratios ---\n",
    "\n",
    "You and the Elf eventually reach a gondola lift station; he says the gondola lift will take you up to the water source, but this is as far as he can bring you. You go inside.\n",
    "\n",
    "It doesn't take long to find the gondolas, but there seems to be a problem: they're not moving.\n",
    "\n",
    "\"Aaah!\"\n",
    "\n",
    "You turn around to see a slightly-greasy Elf with a wrench and a look of surprise. \"Sorry, I wasn't expecting anyone! The gondola lift isn't working right now; it'll still be a while before I can fix it.\" You offer to help.\n",
    "\n",
    "The engineer explains that an engine part seems to be missing from the engine, but nobody can figure out which one. If you can add up all the part numbers in the engine schematic, it should be easy to work out which part is missing.\n",
    "\n",
    "The engine schematic (your puzzle input) consists of a visual representation of the engine. There are lots of numbers and symbols you don't really understand, but apparently any number adjacent to a symbol, even diagonally, is a \"part number\" and should be included in your sum. (Periods (.) do not count as a symbol.)\n",
    "\n",
    "Here is an example engine schematic:\n",
    "\n",
    "```\n",
    "467..114..\n",
    "...*......\n",
    "..35..633.\n",
    "......#...\n",
    "617*......\n",
    ".....+.58.\n",
    "..592.....\n",
    "......755.\n",
    "...$.*....\n",
    ".664.598..\n",
    "```\n",
    "\n",
    "In this schematic, two numbers are not part numbers because they are not adjacent to a symbol: 114 (top right) and 58 (middle right). Every other number is adjacent to a symbol and so is a part number; their sum is 4361.\n",
    "\n",
    "Of course, the actual engine schematic is much larger. What is the sum of all of the part numbers in the engine schematic?"
   ]
  },
  {
   "cell_type": "markdown",
   "id": "eb227d9d-912d-46d6-8571-5892e4e1d873",
   "metadata": {},
   "source": [
    "## Download Input\n",
    "- https://adventofcode.com/2023/day/3/input\n",
    "- select all, CMD+C\n",
    "- open TextEdit, Make Plain Text\n",
    "- CMD+V, save as input.txt"
   ]
  },
  {
   "cell_type": "code",
   "execution_count": 11,
   "id": "38efa35e-002a-451b-8bac-dbc58329fcbd",
   "metadata": {},
   "outputs": [
    {
     "data": {
      "text/plain": [
       "['..224.....487...................718.....................378............................................284........310......313..........311.',\n",
       " '....*..............................*744....486*485......*......741......@...359.#666...439................*925....*......$..+........@......',\n",
       " '.235................758..440...........................251....*......262.....*..........*......................752......774.......515.......',\n",
       " '.........705%..@746........+..942*591.347.470...#..257.........637...........793.......299..../.....813....509......464......&.........688..',\n",
       " '.....82................................*.../..901.....*..................836.....&............814...*........*..............80...17*....*...',\n",
       " '.../...*...679.661.....299...........222.............875.....213...161............964...894.........998.....310....258.85...........735.586.',\n",
       " '.650..23..#......*.......................................760*........@./........................202...................*.....339.............',\n",
       " '..............598......#.....536....702*.........705..........793......957............./........*...935...........965.......................',\n",
       " '..................*.357...+.....@.......242.......*......283..*...=956.......118.......959...184...*..............*....401*527.....348...161',\n",
       " '.63=...955.523..77......978.846....849..........699..........790........=911.*.....87...............486.........914..............=..........']"
      ]
     },
     "execution_count": 11,
     "metadata": {},
     "output_type": "execute_result"
    }
   ],
   "source": [
    "# This function can be used for every puzzle to retrieve input\n",
    "def get_input(filename=\"input.txt\"):\n",
    "    with open(filename, \"r\") as f:\n",
    "        return f.read().strip()\n",
    "\n",
    "# Let's save the input into the variable data\n",
    "data = get_input()\n",
    "# Split lines and make a list of strings\n",
    "data_lines = data.splitlines()\n",
    "data_lines[:10]"
   ]
  },
  {
   "cell_type": "markdown",
   "id": "dd9d7a72-7568-40db-92e8-b7b84d5d9fc8",
   "metadata": {},
   "source": [
    "## Devise a Solution\n",
    "All right. Let's start thinking about a solution. When I look at this example, I visually start from left to right. Whenever I encounter a number, I inspect the character to the right, the char to the left. Then according to the lenght of the number (for example 35 has length 2) I inspect the same numbers of characters above and below. Then I take the first and last digit and respectively I look at the diagonal top left, bottom left and top right bottom right.\n",
    "\n",
    "what I need:\n",
    "\n",
    "- split dataset into lines\n",
    "- iterate using indexes so that I can compare to indexes of previous and next lines if they exist\n",
    "- then iterate through characters\n",
    "- I need a way to identify a number. perhaps I can use isdigit()\n",
    "- for each digit check top, bottom, left, right, diagonals. if any of these contains a symbol, identify the full number and add the number up\n",
    "- if char is digit, save char into temp string and do so until you have the full number\n",
    "- I need a way to identify symbols and exclude dots (I have no idea)"
   ]
  },
  {
   "cell_type": "code",
   "execution_count": 13,
   "id": "bc61f414-5154-446c-9988-dec151e07bb3",
   "metadata": {},
   "outputs": [
    {
     "data": {
      "text/plain": [
       "['467..114..',\n",
       " '...*......',\n",
       " '..35..633.',\n",
       " '......#...',\n",
       " '617*......',\n",
       " '.....+.58.',\n",
       " '..592.....',\n",
       " '......755.',\n",
       " '...$.*....',\n",
       " '.664.598..']"
      ]
     },
     "execution_count": 13,
     "metadata": {},
     "output_type": "execute_result"
    }
   ],
   "source": [
    "# For now let's work only on the sample\n",
    "samp = '''467..114..\n",
    "...*......\n",
    "..35..633.\n",
    "......#...\n",
    "617*......\n",
    ".....+.58.\n",
    "..592.....\n",
    "......755.\n",
    "...$.*....\n",
    ".664.598..'''\n",
    "\n",
    "lines = samp.splitlines()\n",
    "lines"
   ]
  },
  {
   "cell_type": "code",
   "execution_count": 10,
   "id": "2b9bd26e-0894-4c4a-8574-311e66fe3d52",
   "metadata": {},
   "outputs": [
    {
     "name": "stdout",
     "output_type": "stream",
     "text": [
      "...$.*....\n"
     ]
    },
    {
     "data": {
      "text/plain": [
       "[]"
      ]
     },
     "execution_count": 10,
     "metadata": {},
     "output_type": "execute_result"
    }
   ],
   "source": [
    "# Let's first work on the first line to find the numbers and their final indexes.\n",
    "x = lines[8]\n",
    "print(x)\n",
    "# list of tuples where to append number, start and end indexes\n",
    "num_list = []\n",
    "temp_num = ''\n",
    "for i in range(len(x)):\n",
    "    if x[i].isdigit():\n",
    "        if temp_num == '':\n",
    "            start_index = i\n",
    "        temp_num+=x[i]\n",
    "    else:\n",
    "        if temp_num != '':\n",
    "            end_index = i-1\n",
    "            num_list.append((temp_num, start_index, end_index))\n",
    "        temp_num = ''\n",
    "# append number to list in case we are at the end of the loop\n",
    "if temp_num != '':\n",
    "    end_index = len(x)-1\n",
    "    num_list.append((temp_num, start_index, end_index))\n",
    "num_list"
   ]
  },
  {
   "cell_type": "code",
   "execution_count": 12,
   "id": "39c17fcc-e688-4d7a-99f3-b2d248f64e1d",
   "metadata": {},
   "outputs": [
    {
     "data": {
      "text/plain": [
       "[('467', 0, 2), ('114', 5, 7)]"
      ]
     },
     "execution_count": 12,
     "metadata": {},
     "output_type": "execute_result"
    }
   ],
   "source": [
    "# I will now create a function to make things easier \n",
    "def get_numbers(line):\n",
    "    num_list = []\n",
    "    temp_num = ''\n",
    "    for i in range(len(line)):\n",
    "        if line[i].isdigit():\n",
    "            if temp_num == '':\n",
    "                start_index = i\n",
    "            temp_num+=line[i]\n",
    "        else:\n",
    "            if temp_num != '':\n",
    "                end_index = i-1\n",
    "                num_list.append((temp_num, start_index, end_index))\n",
    "            temp_num = ''\n",
    "        # append number to list in case we are at the end of the loop\n",
    "    if temp_num != '':\n",
    "        end_index = len(line)-1\n",
    "        num_list.append((temp_num, start_index, end_index))\n",
    "    return num_list\n",
    "get_numbers(lines[0])"
   ]
  },
  {
   "cell_type": "code",
   "execution_count": 14,
   "id": "630af1fd-d5d1-4992-99d4-13a867ce6ae2",
   "metadata": {},
   "outputs": [
    {
     "data": {
      "text/plain": [
       "4361"
      ]
     },
     "execution_count": 14,
     "metadata": {},
     "output_type": "execute_result"
    }
   ],
   "source": [
    "# this function check if a char is a symbol and not a point and returns true or false\n",
    "def is_symbol(char):\n",
    "    return char != '.' and not char.isdigit()\n",
    "\n",
    "# let's check if for each line the numbers have a symbol in any of the indexes to check.\n",
    "def get_solution(lines):\n",
    "    total_sum = 0\n",
    "    row_index = 0\n",
    "\n",
    "    for line in lines:\n",
    "        numbers = get_numbers(line)\n",
    "\n",
    "        for o in numbers:\n",
    "            send_num = False\n",
    "            num_len = len(o[0])\n",
    "            # check line above for symbols\n",
    "            start_index = o[1]\n",
    "            # check top left diagonal\n",
    "            if row_index-1>=0 and o[1]-1>=0:\n",
    "                if is_symbol(lines[row_index-1][o[1]-1]):\n",
    "                    send_num = True\n",
    "            # check bottom left diagonal\n",
    "            if row_index+1<len(lines)-1 and o[1]-1>=0:\n",
    "                if is_symbol(lines[row_index+1][o[1]-1]):\n",
    "                    send_num = True\n",
    "            # check left char\n",
    "            if o[1]-1>=0:\n",
    "                if is_symbol(lines[row_index][o[1]-1]):\n",
    "                    send_num = True\n",
    "            # check top right diagonal\n",
    "            if row_index-1>=0 and o[2]+1 < len(lines[row_index-1]):\n",
    "                if is_symbol(lines[row_index-1][o[2]+1]):\n",
    "                    send_num = True\n",
    "            # check bottom right diagonal\n",
    "            if row_index+1 < len(lines)-1 and o[2]+1<len(lines[row_index+1]):\n",
    "                if is_symbol(lines[row_index+1][o[2]+1]):\n",
    "                    send_num = True\n",
    "            # check right char\n",
    "            if o[2]+1 < len(lines[row_index]):\n",
    "                if is_symbol(lines[row_index][o[2]+1]):\n",
    "                    send_num = True\n",
    "            # check top row\n",
    "            if row_index-1>=0:\n",
    "                for i in range(o[1],o[2]+1):\n",
    "                    if is_symbol(lines[row_index-1][i]):\n",
    "                        send_num = True\n",
    "            # check bottom row\n",
    "            if row_index+1 < len(lines):\n",
    "                for i in range(o[1],o[2]+1):\n",
    "                    if is_symbol(lines[row_index+1][i]):\n",
    "                        send_num = True\n",
    "            if send_num == True:\n",
    "                total_sum+=int(o[0])\n",
    "        row_index+=1\n",
    "\n",
    "    return total_sum\n",
    "\n",
    "get_solution(lines)"
   ]
  },
  {
   "cell_type": "code",
   "execution_count": 16,
   "id": "c636d486-c3e3-45f8-853c-fe4e99dddd09",
   "metadata": {},
   "outputs": [
    {
     "data": {
      "text/plain": [
       "539590"
      ]
     },
     "execution_count": 16,
     "metadata": {},
     "output_type": "execute_result"
    }
   ],
   "source": [
    "get_solution(data_lines)"
   ]
  },
  {
   "cell_type": "markdown",
   "id": "21c0a94b",
   "metadata": {},
   "source": [
    "# Problem 2\n",
    "\n",
    "--- Part Two ---\n",
    "\n",
    "The engineer finds the missing part and installs it in the engine! As the engine springs to life, you jump in the closest gondola, finally ready to ascend to the water source.\n",
    "\n",
    "You don't seem to be going very fast, though. Maybe something is still wrong? Fortunately, the gondola has a phone labeled \"help\", so you pick it up and the engineer answers.\n",
    "\n",
    "Before you can explain the situation, she suggests that you look out the window. There stands the engineer, holding a phone in one hand and waving with the other. You're going so slowly that you haven't even left the station. You exit the gondola.\n",
    "\n",
    "The missing part wasn't the only issue - one of the gears in the engine is wrong. A gear is any * symbol that is adjacent to exactly two part numbers. Its gear ratio is the result of multiplying those two numbers together.\n",
    "\n",
    "This time, you need to find the gear ratio of every gear and add them all up so that the engineer can figure out which gear needs to be replaced.\n",
    "\n",
    "Consider the same engine schematic again:\n",
    "```\n",
    "467..114..\n",
    "...*......\n",
    "..35..633.\n",
    "......#...\n",
    "617*......\n",
    ".....+.58.\n",
    "..592.....\n",
    "......755.\n",
    "...$.*....\n",
    ".664.598..\n",
    "```\n",
    "In this schematic, there are two gears. The first is in the top left; it has part numbers 467 and 35, so its gear ratio is 16345. The second gear is in the lower right; its gear ratio is 451490. (The * adjacent to 617 is not a gear because it is only adjacent to one part number.) Adding up all of the gear ratios produces 467835.\n",
    "\n",
    "What is the sum of all of the gear ratios in your engine schematic?\n"
   ]
  },
  {
   "cell_type": "markdown",
   "id": "808d592b-fd37-4fb3-92b3-d381ced4668b",
   "metadata": {},
   "source": [
    "## Devise a Solution\n",
    "- save the sample to test code\n",
    "- reuse code to find numbers\n",
    "- modify func to check adjacence to * only\n",
    "- write a function that iterates thorugh lines similar to the one before. If it finds adjacence to *, save the * indexes to a dictionary and - number as value in a list\n",
    "- write a function that takes the dictionary and compute ratio and sums up if list length is 2"
   ]
  },
  {
   "cell_type": "code",
   "execution_count": 5,
   "id": "da15be77-6e7a-43b9-a2db-e9a0101950f6",
   "metadata": {},
   "outputs": [],
   "source": [
    "def get_numbers(line):\n",
    "    num_list = []\n",
    "    temp_num = ''\n",
    "    for i in range(len(line)):\n",
    "        if line[i].isdigit():\n",
    "            if temp_num == '':\n",
    "                start_index = i\n",
    "            temp_num+=line[i]\n",
    "        else:\n",
    "            if temp_num != '':\n",
    "                end_index = i-1\n",
    "                num_list.append((temp_num, start_index, end_index))\n",
    "            temp_num = ''\n",
    "        # append number to list in case we are at the end of the loop\n",
    "    if temp_num != '':\n",
    "        end_index = len(line)-1\n",
    "        num_list.append((temp_num, start_index, end_index))\n",
    "    return num_list\n",
    "\n",
    "def is_gear(char):\n",
    "    return char == '*'"
   ]
  },
  {
   "cell_type": "code",
   "execution_count": 7,
   "id": "9e3b897c-88b1-49f9-a9ea-878b2d97e324",
   "metadata": {},
   "outputs": [
    {
     "name": "stdout",
     "output_type": "stream",
     "text": [
      "True\n",
      "False\n"
     ]
    }
   ],
   "source": [
    "print(is_gear('*'))\n",
    "print(is_gear('$'))"
   ]
  },
  {
   "cell_type": "code",
   "execution_count": 15,
   "id": "9afc186a-a631-41d3-a176-b57b9d242056",
   "metadata": {},
   "outputs": [
    {
     "data": {
      "text/plain": [
       "{(1, 3): ['467', '35'], (4, 3): ['617'], (8, 5): ['755', '598']}"
      ]
     },
     "execution_count": 15,
     "metadata": {},
     "output_type": "execute_result"
    }
   ],
   "source": [
    "def get_solution2(lines):\n",
    "    row_index = 0\n",
    "    gears_dict = {}\n",
    "\n",
    "    for line in lines:\n",
    "        numbers = get_numbers(line)\n",
    "\n",
    "        for o in numbers:\n",
    "            send_num = False\n",
    "            num_len = len(o[0])\n",
    "            # check line above for symbols\n",
    "            start_index = o[1]\n",
    "            # check top left diagonal\n",
    "            if row_index-1>=0 and o[1]-1>=0:\n",
    "                if is_gear(lines[row_index-1][o[1]-1]):\n",
    "                    gears_dict.setdefault((row_index-1, o[1]-1), []).append(o[0])\n",
    "            # check bottom left diagonal\n",
    "            if row_index+1<len(lines)-1 and o[1]-1>=0:\n",
    "                if is_gear(lines[row_index+1][o[1]-1]):\n",
    "                    gears_dict.setdefault((row_index+1,o[1]-1), []).append(o[0])\n",
    "            # check left char\n",
    "            if o[1]-1>=0:\n",
    "                if is_gear(lines[row_index][o[1]-1]):\n",
    "                    gears_dict.setdefault((row_index,o[1]-1), []).append(o[0])\n",
    "            # check top right diagonal\n",
    "            if row_index-1>=0 and o[2]+1 < len(lines[row_index-1]):\n",
    "                if is_gear(lines[row_index-1][o[2]+1]):\n",
    "                    gears_dict.setdefault((row_index-1,o[2]+1), []).append(o[0])\n",
    "            # check bottom right diagonal\n",
    "            if row_index+1 < len(lines)-1 and o[2]+1<len(lines[row_index+1]):\n",
    "                if is_gear(lines[row_index+1][o[2]+1]):\n",
    "                    gears_dict.setdefault((row_index+1,o[2]+1), []).append(o[0])\n",
    "            # check right char\n",
    "            if o[2]+1 < len(lines[row_index]):\n",
    "                if is_gear(lines[row_index][o[2]+1]):\n",
    "                    gears_dict.setdefault((row_index,o[2]+1), []).append(o[0])\n",
    "            # check top row\n",
    "            if row_index-1>=0:\n",
    "                for i in range(o[1],o[2]+1):\n",
    "                    if is_gear(lines[row_index-1][i]):\n",
    "                        gears_dict.setdefault((row_index-1,i), []).append(o[0])\n",
    "            # check bottom row\n",
    "            if row_index+1 < len(lines):\n",
    "                for i in range(o[1],o[2]+1):\n",
    "                    if is_gear(lines[row_index+1][i]):\n",
    "                        gears_dict.setdefault((row_index+1,i), []).append(o[0])\n",
    "        row_index+=1\n",
    "\n",
    "    return gears_dict\n",
    "\n",
    "get_solution2(lines)\n"
   ]
  },
  {
   "cell_type": "code",
   "execution_count": 17,
   "id": "9ffdb533-beee-445c-9a97-a86eb3179924",
   "metadata": {},
   "outputs": [],
   "source": [
    "# Function that takes dic as argument\n",
    "def fix_motor(dict):\n",
    "    total_sum = 0\n",
    "    for value in dict:\n",
    "        if len(dict[value])==2:\n",
    "            ratio = int(dict[value][0])*int(dict[value][1])\n",
    "            total_sum+=ratio\n",
    "    return total_sum\n",
    "\n",
    "gears_dict = get_solution2(lines)\n",
    "total_sum = fix_motor(gears_dict)\n"
   ]
  },
  {
   "cell_type": "code",
   "execution_count": 19,
   "id": "fc193d85-a113-4acc-b9ca-cedf8385f339",
   "metadata": {},
   "outputs": [
    {
     "name": "stdout",
     "output_type": "stream",
     "text": [
      "80703636\n"
     ]
    }
   ],
   "source": [
    "final_gears_dict = get_solution2(data_lines)\n",
    "final_total_sum = fix_motor(final_gears_dict)\n",
    "print(final_total_sum)"
   ]
  },
  {
   "cell_type": "code",
   "execution_count": null,
   "id": "8d24d562-bd91-46b0-81b3-206ab39c54db",
   "metadata": {},
   "outputs": [],
   "source": []
  }
 ],
 "metadata": {
  "kernelspec": {
   "display_name": "Python [conda env:base] *",
   "language": "python",
   "name": "conda-base-py"
  },
  "language_info": {
   "codemirror_mode": {
    "name": "ipython",
    "version": 3
   },
   "file_extension": ".py",
   "mimetype": "text/x-python",
   "name": "python",
   "nbconvert_exporter": "python",
   "pygments_lexer": "ipython3",
   "version": "3.12.7"
  },
  "solveit_dialog_mode": "learning",
  "solveit_ver": 2
 },
 "nbformat": 4,
 "nbformat_minor": 5
}
