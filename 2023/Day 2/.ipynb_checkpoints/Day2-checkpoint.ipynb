{
 "cells": [
  {
   "cell_type": "markdown",
   "id": "1fe2da41",
   "metadata": {},
   "source": [
    "# AoC 2023, Day 2, Problem 1\n",
    "\n",
    "--- Day 2: Cube Conundrum ---\n",
    "\n",
    "You're launched high into the atmosphere! The apex of your trajectory just barely reaches the surface of a large island floating in the sky. You gently land in a fluffy pile of leaves. It's quite cold, but you don't see much snow. An Elf runs over to greet you.\n",
    "\n",
    "The Elf explains that you've arrived at Snow Island and apologizes for the lack of snow. He'll be happy to explain the situation, but it's a bit of a walk, so you have some time. They don't get many visitors up here; would you like to play a game in the meantime?\n",
    "\n",
    "As you walk, the Elf shows you a small bag and some cubes which are either red, green, or blue. Each time you play this game, he will hide a secret number of cubes of each color in the bag, and your goal is to figure out information about the number of cubes.\n",
    "\n",
    "To get information, once a bag has been loaded with cubes, the Elf will reach into the bag, grab a handful of random cubes, show them to you, and then put them back in the bag. He'll do this a few times per game.\n",
    "\n",
    "You play several games and record the information from each game (your puzzle input). Each game is listed with its ID number (like the 11 in Game 11: ...) followed by a semicolon-separated list of subsets of cubes that were revealed from the bag (like 3 red, 5 green, 4 blue).\n",
    "\n",
    "For example, the record of a few games might look like this:\n",
    "\n",
    "```\n",
    "Game 1: 3 blue, 4 red; 1 red, 2 green, 6 blue; 2 green\n",
    "Game 2: 1 blue, 2 green; 3 green, 4 blue, 1 red; 1 green, 1 blue\n",
    "Game 3: 8 green, 6 blue, 20 red; 5 blue, 4 red, 13 green; 5 green, 1 red\n",
    "Game 4: 1 green, 3 red, 6 blue; 3 green, 6 red; 3 green, 15 blue, 14 red\n",
    "Game 5: 6 red, 1 blue, 3 green; 2 blue, 1 red, 2 green\n",
    "```\n",
    "\n",
    "In game 1, three sets of cubes are revealed from the bag (and then put back again). The first set is 3 blue cubes and 4 red cubes; the second set is 1 red cube, 2 green cubes, and 6 blue cubes; the third set is only 2 green cubes.\n",
    "\n",
    "The Elf would first like to know which games would have been possible if the bag contained only 12 red cubes, 13 green cubes, and 14 blue cubes?\n",
    "\n",
    "In the example above, games 1, 2, and 5 would have been possible if the bag had been loaded with that configuration. However, game 3 would have been impossible because at one point the Elf showed you 20 red cubes at once; similarly, game 4 would also have been impossible because the Elf showed you 15 blue cubes at once. If you add up the IDs of the games that would have been possible, you get 8.\n",
    "\n",
    "Determine which games would have been possible if the bag had been loaded with only 12 red cubes, 13 green cubes, and 14 blue cubes. What is the sum of the IDs of those games?"
   ]
  },
  {
   "cell_type": "markdown",
   "id": "eb227d9d-912d-46d6-8571-5892e4e1d873",
   "metadata": {},
   "source": [
    "## Download Input\n",
    "- https://adventofcode.com/2023/day/2/input\n",
    "- select all, CMD+C\n",
    "- open TextEdit, Make Plain Text\n",
    "- CMD+V, save as input.txt"
   ]
  },
  {
   "cell_type": "code",
   "execution_count": 8,
   "id": "38efa35e-002a-451b-8bac-dbc58329fcbd",
   "metadata": {},
   "outputs": [
    {
     "data": {
      "text/plain": [
       "['Game 1: 19 blue, 12 red; 19 blue, 2 green, 1 red; 13 red, 11 blue',\n",
       " 'Game 2: 1 green, 1 blue, 1 red; 11 red, 3 blue; 1 blue, 18 red; 9 red, 1 green; 2 blue, 11 red, 1 green; 1 green, 2 blue, 10 red',\n",
       " 'Game 3: 3 blue, 2 red, 6 green; 4 blue, 6 green, 1 red; 11 green, 12 blue; 2 red, 6 green, 4 blue; 4 green',\n",
       " 'Game 4: 10 red, 5 green, 5 blue; 3 red, 3 blue, 6 green; 2 blue, 9 red, 6 green; 8 green, 10 red, 4 blue; 9 red, 2 green, 3 blue; 1 blue, 5 red, 15 green',\n",
       " 'Game 5: 11 green, 7 blue; 5 green, 5 red, 1 blue; 1 green, 1 red, 4 blue; 1 red, 1 blue, 4 green; 4 blue, 1 red, 10 green; 5 red, 6 green']"
      ]
     },
     "execution_count": 8,
     "metadata": {},
     "output_type": "execute_result"
    }
   ],
   "source": [
    "# This function can be used for every puzzle to retrieve input\n",
    "def get_input(filename=\"input.txt\"):\n",
    "    with open(filename, \"r\") as f:\n",
    "        return f.read().strip()\n",
    "\n",
    "# Let's save the input into the variable data\n",
    "data = get_input()\n",
    "# Split lines and make a list of strings\n",
    "data_lines = data.splitlines()\n",
    "data_lines[:5]"
   ]
  },
  {
   "cell_type": "markdown",
   "id": "dd9d7a72-7568-40db-92e8-b7b84d5d9fc8",
   "metadata": {},
   "source": [
    "## Devise a Solution\n",
    "- in each line we split the Game ID variable and the rest\n",
    "- use regex to all occurrences of numbers that come before \"red\" \"green\" or \"blue\n",
    "- take the maximum\n",
    "- check eligibility to see if all three numbers are within criteria\n",
    "- if so, save id\n",
    "- sum eligible ids of all the lines"
   ]
  },
  {
   "cell_type": "code",
   "execution_count": 14,
   "id": "4cb34a5f-09e5-4a86-b3df-8e845b6a0061",
   "metadata": {},
   "outputs": [
    {
     "data": {
      "text/plain": [
       "2632"
      ]
     },
     "execution_count": 14,
     "metadata": {},
     "output_type": "execute_result"
    }
   ],
   "source": [
    "# import regext library\n",
    "import re\n",
    "\n",
    "# function that takes a single line as input\n",
    "def get_ids(line):\n",
    "    # let's separate the game id\n",
    "    game = line.split(':')[0]\n",
    "    # use regex to get the id number\n",
    "    gameid = re.findall(r'Game (\\d+)', game)\n",
    "    colors = line.split(':')[1]\n",
    "    # let's use regex to find the numbers associated with each color\n",
    "    red = re.findall(r'(\\d+) red', colors)\n",
    "    green = re.findall(r'(\\d+) green', colors)\n",
    "    blue = re.findall(r'(\\d+) blue', colors)\n",
    "\n",
    "    # list comprehension to cast to int\n",
    "    red = [int(i) for i in red]\n",
    "    green = [int(i) for i in green]\n",
    "    blue = [int(i) for i in blue]\n",
    "\n",
    "    # check if line qualifies but taking the max and checking criteria\n",
    "    if max(red) <= 12 and max(green) <= 13 and max(blue) <= 14:\n",
    "        # if so send it to variable to return\n",
    "        idtosend = int(gameid[0])\n",
    "    else:\n",
    "        idtosend = 0\n",
    "    return idtosend\n",
    "\n",
    "# function that takes multiple lines\n",
    "def res(lines):\n",
    "    # initialize the sum\n",
    "    idsum = 0\n",
    "    # call get_ids and sum everything up\n",
    "    for line in lines:\n",
    "        idsum+=get_ids(line)\n",
    "    return idsum\n",
    "\n",
    "finalcount = res(data_lines)\n",
    "finalcount"
   ]
  },
  {
   "cell_type": "markdown",
   "id": "21c0a94b",
   "metadata": {},
   "source": [
    "# Problem 2\n",
    "--- Part Two ---\n",
    "\n",
    "The Elf says they've stopped producing snow because they aren't getting any water! He isn't sure why the water stopped; however, he can show you how to get to the water source to check it out for yourself. It's just up ahead!\n",
    "\n",
    "As you continue your walk, the Elf poses a second question: in each game you played, what is the fewest number of cubes of each color that could have been in the bag to make the game possible?\n",
    "\n",
    "Again consider the example games from earlier:\n",
    "\n",
    "```\n",
    "Game 1: 3 blue, 4 red; 1 red, 2 green, 6 blue; 2 green\n",
    "Game 2: 1 blue, 2 green; 3 green, 4 blue, 1 red; 1 green, 1 blue\n",
    "Game 3: 8 green, 6 blue, 20 red; 5 blue, 4 red, 13 green; 5 green, 1 red\n",
    "Game 4: 1 green, 3 red, 6 blue; 3 green, 6 red; 3 green, 15 blue, 14 red\n",
    "Game 5: 6 red, 1 blue, 3 green; 2 blue, 1 red, 2 green\n",
    "```\n",
    "\n",
    "In game 1, the game could have been played with as few as 4 red, 2 green, and 6 blue cubes. If any color had even one fewer cube, the game would have been impossible. Game 2 could have been played with a minimum of 1 red, 3 green, and 4 blue cubes. Game 3 must have been played with at least 20 red, 13 green, and 6 blue cubes. Game 4 required at least 14 red, 3 green, and 15 blue cubes. Game 5 needed no fewer than 6 red, 3 green, and 2 blue cubes in the bag. The power of a set of cubes is equal to the numbers of red, green, and blue cubes multiplied together. The power of the minimum set of cubes in game 1 is 48. In games 2-5 it was 12, 1560, 630, and 36, respectively. Adding up these five powers produces the sum 2286.\n",
    "\n",
    "For each game, find the minimum set of cubes that must have been present. What is the sum of the power of these sets?\n",
    "\n"
   ]
  },
  {
   "cell_type": "markdown",
   "id": "808d592b-fd37-4fb3-92b3-d381ced4668b",
   "metadata": {},
   "source": [
    "## Devise a Solution\n",
    "- take the maximum number for each color of each line\n",
    "- multiply them together\n",
    "- sum up each line result"
   ]
  },
  {
   "cell_type": "code",
   "execution_count": 18,
   "id": "4294b289-3452-47a4-9955-b09403917850",
   "metadata": {},
   "outputs": [
    {
     "data": {
      "text/plain": [
       "69629"
      ]
     },
     "execution_count": 18,
     "metadata": {},
     "output_type": "execute_result"
    }
   ],
   "source": [
    "import re\n",
    "def get_power(line):\n",
    "    colors = line.split(':')[1]\n",
    "    red = re.findall(r'(\\d+) red', colors)\n",
    "    green = re.findall(r'(\\d+) green', colors)\n",
    "    blue = re.findall(r'(\\d+) blue', colors)\n",
    "\n",
    "    maxred = max([int(i) for i in red])\n",
    "    maxgreen = max([int(i) for i in green])\n",
    "    maxblue = max([int(i) for i in blue])\n",
    "\n",
    "    power = maxred*maxgreen*maxblue\n",
    "    return power\n",
    "\n",
    "def calculate_powersum(lines):\n",
    "    powersum = 0\n",
    "    for line in lines:\n",
    "        powersum+=get_power(line)\n",
    "    return powersum\n",
    "\n",
    "answer2 = calculate_powersum(data_lines)\n",
    "answer2"
   ]
  },
  {
   "cell_type": "code",
   "execution_count": null,
   "id": "b9937f35-2c6b-4e73-9746-2316c18bb2d0",
   "metadata": {},
   "outputs": [],
   "source": []
  }
 ],
 "metadata": {
  "kernelspec": {
   "display_name": "Python [conda env:base] *",
   "language": "python",
   "name": "conda-base-py"
  },
  "language_info": {
   "codemirror_mode": {
    "name": "ipython",
    "version": 3
   },
   "file_extension": ".py",
   "mimetype": "text/x-python",
   "name": "python",
   "nbconvert_exporter": "python",
   "pygments_lexer": "ipython3",
   "version": "3.12.7"
  },
  "solveit_dialog_mode": "learning",
  "solveit_ver": 2
 },
 "nbformat": 4,
 "nbformat_minor": 5
}
