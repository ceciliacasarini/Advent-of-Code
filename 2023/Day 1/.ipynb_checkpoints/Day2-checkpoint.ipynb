{
 "cells": [
  {
   "cell_type": "markdown",
   "id": "1fe2da41",
   "metadata": {},
   "source": [
    "# AoC 2023, Day 2, Problem 1\n",
    "\n"
   ]
  },
  {
   "cell_type": "markdown",
   "id": "eb227d9d-912d-46d6-8571-5892e4e1d873",
   "metadata": {},
   "source": [
    "## Download Input\n",
    "- https://adventofcode.com/2023/day/2/input\n",
    "- select all, CMD+C\n",
    "- open TextEdit, Make Plain Text\n",
    "- CMD+V, save as input.txt"
   ]
  },
  {
   "cell_type": "code",
   "execution_count": 11,
   "id": "38efa35e-002a-451b-8bac-dbc58329fcbd",
   "metadata": {},
   "outputs": [
    {
     "data": {
      "text/plain": [
       "['sixrrmlkptmc18zhvninek',\n",
       " 'jcb82eightwond',\n",
       " 'twofourthree778nineeight',\n",
       " 'sqpxs1cgcrmctlgqvzxbcjzgr',\n",
       " 'nqkjxbmbpkz9eight8']"
      ]
     },
     "execution_count": 11,
     "metadata": {},
     "output_type": "execute_result"
    }
   ],
   "source": [
    "# This function can be used for every puzzle to retrieve input\n",
    "def get_input(filename=\"input.txt\"):\n",
    "    with open(filename, \"r\") as f:\n",
    "        return f.read().strip()\n",
    "\n",
    "# Let's save the input into the variable data\n",
    "data = get_input()\n",
    "# Split lines and make a list of strings\n",
    "data_lines = data.splitlines()\n",
    "data_lines[:5]"
   ]
  },
  {
   "cell_type": "markdown",
   "id": "dd9d7a72-7568-40db-92e8-b7b84d5d9fc8",
   "metadata": {},
   "source": [
    "## Devise a Solution\n",
    "- line by line analyze each character. If it's a digit assign it to the variable 'first'\n",
    "- assign digits and revwrite to the variable 'last' until you end the line\n",
    "- add the two strings and convert to int\n",
    "- iterate through dataset and sum up results of all the lines"
   ]
  },
  {
   "cell_type": "code",
   "execution_count": 14,
   "id": "3e2b670f",
   "metadata": {
    "time_run": "3:10:19a"
   },
   "outputs": [
    {
     "data": {
      "text/plain": [
       "55607"
      ]
     },
     "execution_count": 14,
     "metadata": {},
     "output_type": "execute_result"
    }
   ],
   "source": [
    "# The function get_digits takes a single line as argument\n",
    "def get_digits(s):\n",
    "    # initialize first and last variables to None\n",
    "    first = None\n",
    "    last = None\n",
    "    # for each character in the line\n",
    "    for o in s:\n",
    "        # check if it is a digit\n",
    "        if o.isdigit():\n",
    "            # if first is still None assign it to first\n",
    "            if first is None: first = o\n",
    "            # also assign it to last and keep rewriting last until you find the last digit\n",
    "            last = o\n",
    "    # return the integer of first and last digit\n",
    "    return int(first+last)\n",
    "\n",
    "# The function solve1a takes the full dataset split in a list of lines as input\n",
    "def solve1a(lines):\n",
    "    # initialize sum to 0\n",
    "    res = 0\n",
    "    # call get_digits and sum up all results\n",
    "    for o in lines: res+=get_digits(o)\n",
    "    return res\n",
    "\n",
    "solve1a(data_lines)"
   ]
  },
  {
   "cell_type": "markdown",
   "id": "21c0a94b",
   "metadata": {},
   "source": [
    "# Problem 2\n",
    "\n",
    "Your calculation isn't quite right. It looks like some of the digits are actually spelled out with letters: one, two, three, four, five, six, seven, eight, and nine also count as valid \"digits\".\n",
    "\n",
    "Equipped with this new information, you now need to find the real first and last digit on each line. For example:\n",
    "\n",
    "```\n",
    "two1nine\n",
    "eightwothree\n",
    "abcone2threexyz\n",
    "xtwone3four\n",
    "4nineeightseven2\n",
    "zoneight234\n",
    "7pqrstsixteen\n",
    "```\n",
    "\n",
    "In this example, the calibration values are 29, 83, 13, 24, 42, 14, and 76. Adding these together produces 281.\n",
    "\n",
    "What is the sum of all of the calibration values?"
   ]
  },
  {
   "cell_type": "markdown",
   "id": "808d592b-fd37-4fb3-92b3-d381ced4668b",
   "metadata": {},
   "source": [
    "## Devise a Solution\n",
    "- create a dictionary with key = digit in word and value digit in number\n",
    "- iterate thorugh indexes of characters of each line\n",
    "- if char is a digit assign it to the variable first\n",
    "- else, check if the string from there on matches one of the dictionary keys\n",
    "- Then like in Problem 1 assign it to first if it's = None, and to last as well\n",
    "- Keep iterating until the end of the line\n",
    "- Return first + last and convert to int\n",
    "- Sum up all the results of each line"
   ]
  },
  {
   "cell_type": "code",
   "execution_count": 19,
   "id": "d4160492",
   "metadata": {
    "time_run": "4:15:28a"
   },
   "outputs": [
    {
     "data": {
      "text/plain": [
       "55291"
      ]
     },
     "execution_count": 19,
     "metadata": {},
     "output_type": "execute_result"
    }
   ],
   "source": [
    "# Dictionary with keys in words and values in numbers\n",
    "word_to_digit = {\"one\": \"1\", \"two\": \"2\", \"three\": \"3\", \"four\":\"4\", \"five\":\"5\", \"six\":\"6\", \"seven\":\"7\", \"eight\":\"8\", \"nine\":\"9\"}\n",
    "\n",
    "# This function takes a single line as argument\n",
    "def get_digits_1b(s):\n",
    "    # initialize variables first and last\n",
    "    first = None\n",
    "    last = None\n",
    "    # iterate through the indexes in the line\n",
    "    for i in range(len(s)):\n",
    "        # check if the char corresponding to that index is a digit\n",
    "        if s[i].isdigit():\n",
    "            # if so assign it to first if it's None and to last as well\n",
    "            if first == None: first = s[i]\n",
    "            last = s[i]\n",
    "        else:\n",
    "            # check if the remaining string from the index on starts with one of the digits in words\n",
    "            for word in word_to_digit:\n",
    "                if s[i:].startswith(word):\n",
    "                    # assign it accordingly\n",
    "                    if first == None: first = word_to_digit[word]\n",
    "                    last = word_to_digit[word]\n",
    "    return int(first+last)\n",
    "\n",
    "# This function takes a list of lines as input\n",
    "def solve1b(lines):\n",
    "    # initialize sum to 0\n",
    "    res = 0\n",
    "    # sum everything up\n",
    "    for o in lines: res+=get_digits_1b(o)\n",
    "    return res\n",
    "\n",
    "solve1b(data_lines)"
   ]
  }
 ],
 "metadata": {
  "kernelspec": {
   "display_name": "Python [conda env:base] *",
   "language": "python",
   "name": "conda-base-py"
  },
  "language_info": {
   "codemirror_mode": {
    "name": "ipython",
    "version": 3
   },
   "file_extension": ".py",
   "mimetype": "text/x-python",
   "name": "python",
   "nbconvert_exporter": "python",
   "pygments_lexer": "ipython3",
   "version": "3.12.7"
  },
  "solveit_dialog_mode": "learning",
  "solveit_ver": 2
 },
 "nbformat": 4,
 "nbformat_minor": 5
}
